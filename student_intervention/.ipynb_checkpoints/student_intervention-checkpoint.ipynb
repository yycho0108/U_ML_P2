{
 "cells": [
  {
   "cell_type": "markdown",
   "metadata": {},
   "source": [
    "# Project 2: Supervised Learning\n",
    "### Building a Student Intervention System"
   ]
  },
  {
   "cell_type": "markdown",
   "metadata": {},
   "source": [
    "## 1. Classification vs Regression\n",
    "\n",
    "Your goal is to identify students who might need early intervention - which type of supervised machine learning problem is this, classification or regression? Why?\n",
    "\n",
    "This problem is an instance of **classification**, because it identifies students with a boolean *label*: ones who need early intervention and ones who do not."
   ]
  },
  {
   "cell_type": "markdown",
   "metadata": {},
   "source": [
    "## 2. Exploring the Data\n",
    "\n",
    "Let's go ahead and read in the student dataset first.\n",
    "\n",
    "_To execute a code cell, click inside it and press **Shift+Enter**._"
   ]
  },
  {
   "cell_type": "code",
   "execution_count": 1,
   "metadata": {
    "collapsed": false
   },
   "outputs": [],
   "source": [
    "# Import libraries\n",
    "import numpy as np\n",
    "import pandas as pd"
   ]
  },
  {
   "cell_type": "code",
   "execution_count": 2,
   "metadata": {
    "collapsed": false
   },
   "outputs": [
    {
     "name": "stdout",
     "output_type": "stream",
     "text": [
      "Student data read successfully!\n"
     ]
    }
   ],
   "source": [
    "# Read student data\n",
    "student_data = pd.read_csv(\"student-data.csv\")\n",
    "print \"Student data read successfully!\"\n",
    "# Note: The last column 'passed' is the target/label, all other are feature columns"
   ]
  },
  {
   "cell_type": "markdown",
   "metadata": {},
   "source": [
    "Now, can you find out the following facts about the dataset?\n",
    "- Total number of students\n",
    "- Number of students who passed\n",
    "- Number of students who failed\n",
    "- Graduation rate of the class (%)\n",
    "- Number of features\n",
    "\n",
    "_Use the code block below to compute these values. Instructions/steps are marked using **TODO**s._"
   ]
  },
  {
   "cell_type": "code",
   "execution_count": 3,
   "metadata": {
    "collapsed": false
   },
   "outputs": [
    {
     "name": "stdout",
     "output_type": "stream",
     "text": [
      "Total number of students: 395\n",
      "Number of students who passed: 265\n",
      "Number of students who failed: 130\n",
      "Number of features: 30\n",
      "Graduation rate of the class: 67.09%\n"
     ]
    }
   ],
   "source": [
    "# TODO: Compute desired values - replace each '?' with an appropriate expression/function call\n",
    "#print(student_data)\n",
    "n_students = student_data.shape[0]\n",
    "n_features = student_data.shape[1] -1 # Last one is a label\n",
    "n_passed = student_data[student_data.passed==\"yes\"].shape[0]\n",
    "n_failed = n_students - n_passed\n",
    "grad_rate = 100.0 * n_passed / n_students\n",
    "print \"Total number of students: {}\".format(n_students)\n",
    "print \"Number of students who passed: {}\".format(n_passed)\n",
    "print \"Number of students who failed: {}\".format(n_failed)\n",
    "print \"Number of features: {}\".format(n_features)\n",
    "print \"Graduation rate of the class: {:.2f}%\".format(grad_rate)"
   ]
  },
  {
   "cell_type": "markdown",
   "metadata": {},
   "source": [
    "## 3. Preparing the Data\n",
    "In this section, we will prepare the data for modeling, training and testing.\n",
    "\n",
    "### Identify feature and target columns\n",
    "It is often the case that the data you obtain contains non-numeric features. This can be a problem, as most machine learning algorithms expect numeric data to perform computations with.\n",
    "\n",
    "Let's first separate our data into feature and target columns, and see if any features are non-numeric.<br/>\n",
    "**Note**: For this dataset, the last column (`'passed'`) is the target or label we are trying to predict."
   ]
  },
  {
   "cell_type": "code",
   "execution_count": 4,
   "metadata": {
    "collapsed": false
   },
   "outputs": [
    {
     "name": "stdout",
     "output_type": "stream",
     "text": [
      "Feature column(s):-\n",
      "['school', 'sex', 'age', 'address', 'famsize', 'Pstatus', 'Medu', 'Fedu', 'Mjob', 'Fjob', 'reason', 'guardian', 'traveltime', 'studytime', 'failures', 'schoolsup', 'famsup', 'paid', 'activities', 'nursery', 'higher', 'internet', 'romantic', 'famrel', 'freetime', 'goout', 'Dalc', 'Walc', 'health', 'absences']\n",
      "Target column: passed\n",
      "\n",
      "Feature values:-\n",
      "  school sex  age address famsize Pstatus  Medu  Fedu     Mjob      Fjob  \\\n",
      "0     GP   F   18       U     GT3       A     4     4  at_home   teacher   \n",
      "1     GP   F   17       U     GT3       T     1     1  at_home     other   \n",
      "2     GP   F   15       U     LE3       T     1     1  at_home     other   \n",
      "3     GP   F   15       U     GT3       T     4     2   health  services   \n",
      "4     GP   F   16       U     GT3       T     3     3    other     other   \n",
      "\n",
      "    ...    higher internet  romantic  famrel  freetime goout Dalc Walc health  \\\n",
      "0   ...       yes       no        no       4         3     4    1    1      3   \n",
      "1   ...       yes      yes        no       5         3     3    1    1      3   \n",
      "2   ...       yes      yes        no       4         3     2    2    3      3   \n",
      "3   ...       yes      yes       yes       3         2     2    1    1      5   \n",
      "4   ...       yes       no        no       4         3     2    1    2      5   \n",
      "\n",
      "  absences  \n",
      "0        6  \n",
      "1        4  \n",
      "2       10  \n",
      "3        2  \n",
      "4        4  \n",
      "\n",
      "[5 rows x 30 columns]\n"
     ]
    }
   ],
   "source": [
    "# Extract feature (X) and target (y) columns\n",
    "feature_cols = list(student_data.columns[:-1])  # all columns but last are features\n",
    "target_col = student_data.columns[-1]  # last column is the target/label\n",
    "print \"Feature column(s):-\\n{}\".format(feature_cols)\n",
    "print \"Target column: {}\".format(target_col)\n",
    "\n",
    "X_all = student_data[feature_cols]  # feature values for all students\n",
    "y_all = student_data[target_col]  # corresponding targets/labels\n",
    "print \"\\nFeature values:-\"\n",
    "print X_all.head()  # print the first 5 rows"
   ]
  },
  {
   "cell_type": "markdown",
   "metadata": {},
   "source": [
    "### Preprocess feature columns\n",
    "\n",
    "As you can see, there are several non-numeric columns that need to be converted! Many of them are simply `yes`/`no`, e.g. `internet`. These can be reasonably converted into `1`/`0` (binary) values.\n",
    "\n",
    "Other columns, like `Mjob` and `Fjob`, have more than two values, and are known as _categorical variables_. The recommended way to handle such a column is to create as many columns as possible values (e.g. `Fjob_teacher`, `Fjob_other`, `Fjob_services`, etc.), and assign a `1` to one of them and `0` to all others.\n",
    "\n",
    "These generated columns are sometimes called _dummy variables_, and we will use the [`pandas.get_dummies()`](http://pandas.pydata.org/pandas-docs/stable/generated/pandas.get_dummies.html?highlight=get_dummies#pandas.get_dummies) function to perform this transformation."
   ]
  },
  {
   "cell_type": "code",
   "execution_count": 5,
   "metadata": {
    "collapsed": false
   },
   "outputs": [
    {
     "name": "stdout",
     "output_type": "stream",
     "text": [
      "Processed feature columns (48):-\n",
      "['school_GP', 'school_MS', 'sex_F', 'sex_M', 'age', 'address_R', 'address_U', 'famsize_GT3', 'famsize_LE3', 'Pstatus_A', 'Pstatus_T', 'Medu', 'Fedu', 'Mjob_at_home', 'Mjob_health', 'Mjob_other', 'Mjob_services', 'Mjob_teacher', 'Fjob_at_home', 'Fjob_health', 'Fjob_other', 'Fjob_services', 'Fjob_teacher', 'reason_course', 'reason_home', 'reason_other', 'reason_reputation', 'guardian_father', 'guardian_mother', 'guardian_other', 'traveltime', 'studytime', 'failures', 'schoolsup', 'famsup', 'paid', 'activities', 'nursery', 'higher', 'internet', 'romantic', 'famrel', 'freetime', 'goout', 'Dalc', 'Walc', 'health', 'absences']\n"
     ]
    }
   ],
   "source": [
    "# Preprocess feature columns\n",
    "def preprocess_features(X):\n",
    "    outX = pd.DataFrame(index=X.index)  # output dataframe, initially empty\n",
    "\n",
    "    # Check each column\n",
    "    for col, col_data in X.iteritems():\n",
    "        # If data type is non-numeric, try to replace all yes/no values with 1/0\n",
    "        if col_data.dtype == object:\n",
    "            col_data = col_data.replace(['yes', 'no'], [1, 0])\n",
    "        # Note: This should change the data type for yes/no columns to int\n",
    "\n",
    "        # If still non-numeric, convert to one or more dummy variables\n",
    "        if col_data.dtype == object:\n",
    "            col_data = pd.get_dummies(col_data, prefix=col)  # e.g. 'school' => 'school_GP', 'school_MS'\n",
    "\n",
    "        outX = outX.join(col_data)  # collect column(s) in output dataframe\n",
    "\n",
    "    return outX\n",
    "\n",
    "X_all = preprocess_features(X_all)\n",
    "print \"Processed feature columns ({}):-\\n{}\".format(len(X_all.columns), list(X_all.columns))"
   ]
  },
  {
   "cell_type": "markdown",
   "metadata": {},
   "source": [
    "### Split data into training and test sets\n",
    "\n",
    "So far, we have converted all _categorical_ features into numeric values. In this next step, we split the data (both features and corresponding labels) into training and test sets."
   ]
  },
  {
   "cell_type": "code",
   "execution_count": 6,
   "metadata": {
    "collapsed": false
   },
   "outputs": [
    {
     "name": "stdout",
     "output_type": "stream",
     "text": [
      "Training set: 300 samples\n",
      "Test set: 95 samples\n"
     ]
    }
   ],
   "source": [
    "# First, decide how many training vs test samples you want\n",
    "num_all = student_data.shape[0]  # same as len(student_data)\n",
    "num_train = 300  # about 75% of the data\n",
    "num_test = num_all - num_train\n",
    "\n",
    "# TODO: Then, select features (X) and corresponding labels (y) for the training and test sets\n",
    "# Note: Shuffle the data or randomly select samples to avoid any bias due to ordering in the dataset\n",
    "\n",
    "new_index = np.random.permutation(X_all.index)\n",
    "X_random = X_all.reindex(new_index)\n",
    "y_random = y_all.reindex(new_index)\n",
    "X_train = X_random[:num_train]\n",
    "y_train = y_random[:num_train]\n",
    "X_test = X_random[num_train:]\n",
    "y_test = y_random[num_train:]\n",
    "print \"Training set: {} samples\".format(X_train.shape[0])\n",
    "print \"Test set: {} samples\".format(X_test.shape[0])\n",
    "# Note: If you need a validation set, extract it from within training data"
   ]
  },
  {
   "cell_type": "markdown",
   "metadata": {},
   "source": [
    "## 4. Training and Evaluating Models\n",
    "Choose 3 supervised learning models that are available in scikit-learn, and appropriate for this problem. For each model:\n",
    "\n",
    "- What are the general applications of this model? What are its strengths and weaknesses?\n",
    "- Given what you know about the data so far, why did you choose this model to apply?\n",
    "- Fit this model to the training data, try to predict labels (for both training and test sets), and measure the F<sub>1</sub> score. Repeat this process with different training set sizes (100, 200, 300), keeping test set constant.\n",
    "\n",
    "Produce a table showing training time, prediction time, F<sub>1</sub> score on training set and F<sub>1</sub> score on test set, for each training set size.\n",
    "\n",
    "Note: You need to produce 3 such tables - one for each model."
   ]
  },
  {
   "cell_type": "code",
   "execution_count": 7,
   "metadata": {
    "collapsed": false
   },
   "outputs": [
    {
     "name": "stdout",
     "output_type": "stream",
     "text": [
      "Training SVC...\n",
      "Done!\n",
      "Training time (secs): 0.008\n"
     ]
    }
   ],
   "source": [
    "# Train a model\n",
    "import time\n",
    "\n",
    "def train_classifier(clf, X_train, y_train):\n",
    "    print \"Training {}...\".format(clf.__class__.__name__)\n",
    "    start = time.time()\n",
    "    clf.fit(X_train, y_train)\n",
    "    end = time.time()\n",
    "    print \"Done!\\nTraining time (secs): {:.3f}\".format(end - start)\n",
    "\n",
    "# TODO: Choose a model, import it and instantiate an object\n",
    "from sklearn import svm\n",
    "clf = svm.SVC()\n",
    "\n",
    "# Fit model to training data\n",
    "train_classifier(clf, X_train, y_train)  # note: using entire training set here\n",
    "#print clf  # you can inspect the learned model by printing it"
   ]
  },
  {
   "cell_type": "code",
   "execution_count": 8,
   "metadata": {
    "collapsed": false
   },
   "outputs": [
    {
     "name": "stdout",
     "output_type": "stream",
     "text": [
      "Predicting labels using SVC...\n",
      "Done!\n",
      "Prediction time (secs): 0.008\n",
      "F1 score for training set: 0.864300626305\n"
     ]
    }
   ],
   "source": [
    "# Predict on training set and compute F1 score\n",
    "from sklearn.metrics import f1_score\n",
    "\n",
    "def predict_labels(clf, features, target):\n",
    "    print \"Predicting labels using {}...\".format(clf.__class__.__name__)\n",
    "    start = time.time()\n",
    "    y_pred = clf.predict(features)\n",
    "    end = time.time()\n",
    "    print \"Done!\\nPrediction time (secs): {:.3f}\".format(end - start)\n",
    "    return f1_score(target.values, y_pred, pos_label='yes')\n",
    "\n",
    "train_f1_score = predict_labels(clf, X_train, y_train)\n",
    "print \"F1 score for training set: {}\".format(train_f1_score)"
   ]
  },
  {
   "cell_type": "code",
   "execution_count": 9,
   "metadata": {
    "collapsed": false
   },
   "outputs": [
    {
     "name": "stdout",
     "output_type": "stream",
     "text": [
      "Predicting labels using SVC...\n",
      "Done!\n",
      "Prediction time (secs): 0.002\n",
      "F1 score for test set: 0.76\n"
     ]
    }
   ],
   "source": [
    "# Predict on test data\n",
    "print \"F1 score for test set: {}\".format(predict_labels(clf, X_test, y_test))"
   ]
  },
  {
   "cell_type": "code",
   "execution_count": 10,
   "metadata": {
    "collapsed": false
   },
   "outputs": [
    {
     "name": "stdout",
     "output_type": "stream",
     "text": [
      "------------------------------------------\n",
      "Training set size: 10\n",
      "Training SVC...\n",
      "Done!\n",
      "Training time (secs): 0.000\n",
      "Predicting labels using SVC...\n",
      "Done!\n",
      "Prediction time (secs): 0.000\n",
      "F1 score for training set: 0.941176470588\n",
      "Predicting labels using SVC...\n",
      "Done!\n",
      "Prediction time (secs): 0.000\n",
      "F1 score for test set: 0.758169934641\n",
      "------------------------------------------\n",
      "Training set size: 50\n",
      "Training SVC...\n",
      "Done!\n",
      "Training time (secs): 0.000\n",
      "Predicting labels using SVC...\n",
      "Done!\n",
      "Prediction time (secs): 0.000\n",
      "F1 score for training set: 0.853658536585\n",
      "Predicting labels using SVC...\n",
      "Done!\n",
      "Prediction time (secs): 0.000\n",
      "F1 score for test set: 0.758169934641\n",
      "------------------------------------------\n",
      "Training set size: 100\n",
      "Training SVC...\n",
      "Done!\n",
      "Training time (secs): 0.001\n",
      "Predicting labels using SVC...\n",
      "Done!\n",
      "Prediction time (secs): 0.001\n",
      "F1 score for training set: 0.884848484848\n",
      "Predicting labels using SVC...\n",
      "Done!\n",
      "Prediction time (secs): 0.001\n",
      "F1 score for test set: 0.751677852349\n",
      "------------------------------------------\n",
      "Training set size: 200\n",
      "Training SVC...\n",
      "Done!\n",
      "Training time (secs): 0.003\n",
      "Predicting labels using SVC...\n",
      "Done!\n",
      "Prediction time (secs): 0.002\n",
      "F1 score for training set: 0.877300613497\n",
      "Predicting labels using SVC...\n",
      "Done!\n",
      "Prediction time (secs): 0.001\n",
      "F1 score for test set: 0.76\n",
      "------------------------------------------\n",
      "Training set size: 300\n",
      "Training SVC...\n",
      "Done!\n",
      "Training time (secs): 0.007\n",
      "Predicting labels using SVC...\n",
      "Done!\n",
      "Prediction time (secs): 0.005\n",
      "F1 score for training set: 0.864300626305\n",
      "Predicting labels using SVC...\n",
      "Done!\n",
      "Prediction time (secs): 0.002\n",
      "F1 score for test set: 0.76\n"
     ]
    },
    {
     "data": {
      "image/png": "[encoded data removed]",
      "text/plain": [
       "<matplotlib.figure.Figure at 0x7f847d9e5990>"
      ]
     },
     "metadata": {},
     "output_type": "display_data"
    }
   ],
   "source": [
    "\n",
    "# Train and predict using different training set sizes\n",
    "def train_predict(clf, X_train, y_train, X_test, y_test):\n",
    "    print \"------------------------------------------\"\n",
    "    print \"Training set size: {}\".format(len(X_train))\n",
    "    train_classifier(clf, X_train, y_train)\n",
    "    print \"F1 score for training set: {}\".format(predict_labels(clf, X_train, y_train))\n",
    "    print \"F1 score for test set: {}\".format(predict_labels(clf, X_test, y_test))\n",
    "\n",
    "\n",
    "# TODO: Run the helper function above for desired subsets of training data\n",
    "%matplotlib inline\n",
    "from matplotlib import pyplot as plt\n",
    "\n",
    "#for iterating over ranges of training sizes\n",
    "def train_predict_silent(clf,X_train,y_train,X_test,y_test):\n",
    "    clf.fit(X_train, y_train)\n",
    "    y_pred = clf.predict(X_test)\n",
    "    return f1_score(y_test.values,y_pred,pos_label='yes')\n",
    "\n",
    "#Train separate instances of classifier, to ensure independence\n",
    "train_predict(svm.SVC(),X_train[:10],y_train[:10],X_test,y_test) \n",
    "train_predict(svm.SVC(),X_train[:50],y_train[:50],X_test,y_test)\n",
    "train_predict(svm.SVC(),X_train[:100],y_train[:100],X_test,y_test)\n",
    "train_predict(svm.SVC(),X_train[:200],y_train[:200],X_test,y_test)\n",
    "train_predict(svm.SVC(),X_train,y_train,X_test,y_test)\n",
    "\n",
    "#SVM Visualization\n",
    "#from sklearn.feature_selection import SelectKBest\n",
    "#\n",
    "#clf = svm.SVC()\n",
    "#selector = SelectKBest(k=2) \n",
    "#X_train_partial = selector.fit_transform(X_train, y_train)\n",
    "#print (selector.get_support())\n",
    "#feature_names = X_train.columns[selector.get_support()]\n",
    "#clf.fit(X_train_partial,y_train)\n",
    "#for x,y in zip(X_train_partial,y_train):\n",
    "#    if y == 'no':\n",
    "#        c1 = plt.scatter(x[0],x[1],c='r',s=50,marker='+')\n",
    "#    elif y == 'yes':\n",
    "#        c2 = plt.scatter(x[0],x[1],c='g',s=50,marker='*')\n",
    "#\n",
    "#x_min, x_max = X_train_partial[:, 0].min() - 1,   X_train_partial[:,0].max() + 1\n",
    "#y_min, y_max = X_train_partial[:, 1].min() - 1,   X_train_partial[:, 1].max() + 1\n",
    "#xx, yy = np.meshgrid(np.arange(x_min, x_max, .01),   np.arange(y_min, y_max, .01))\n",
    "#Z = clf.predict(np.c_[xx.ravel(),  yy.ravel()])\n",
    "#Z = Z.reshape(xx.shape)\n",
    "#Z[Z==\"yes\"] = 1.0\n",
    "#Z[Z==\"no\"] = 0.0\n",
    "#plt.contourf(xx, yy, Z, alpha=0.5)\n",
    "#plt.legend([c1,c2],[\"Fail\",\"Pass\"])\n",
    "#plt.xlabel(feature_names[0])\n",
    "#plt.ylabel(feature_names[1])\n",
    "#plt.gcf().savefig('SVM.png')\n",
    "#plt.show()\n",
    "\n",
    "score = []\n",
    "for i in range(10,300): #Did not work for i below 10\n",
    "    score.append(train_predict_silent(svm.SVC(),X_train[:i],y_train[:i],X_test,y_test))\n",
    "plt.plot(range(10,300),score)\n",
    "plt.show()\n",
    "# Note: Keep the test set constant"
   ]
  },
  {
   "cell_type": "code",
   "execution_count": 14,
   "metadata": {
    "collapsed": false
   },
   "outputs": [
    {
     "name": "stdout",
     "output_type": "stream",
     "text": [
      "------------------------------------------\n",
      "Training set size: 100\n",
      "Training KNeighborsClassifier...\n",
      "Done!\n",
      "Training time (secs): 0.001\n",
      "Predicting labels using KNeighborsClassifier...\n",
      "Done!\n",
      "Prediction time (secs): 0.001\n",
      "F1 score for training set: 0.827067669173\n",
      "Predicting labels using KNeighborsClassifier...\n",
      "Done!\n",
      "Prediction time (secs): 0.001\n",
      "F1 score for test set: 0.766917293233\n",
      "------------------------------------------\n",
      "Training set size: 200\n",
      "Training KNeighborsClassifier...\n",
      "Done!\n",
      "Training time (secs): 0.000\n",
      "Predicting labels using KNeighborsClassifier...\n",
      "Done!\n",
      "Prediction time (secs): 0.003\n",
      "F1 score for training set: 0.842857142857\n",
      "Predicting labels using KNeighborsClassifier...\n",
      "Done!\n",
      "Prediction time (secs): 0.001\n",
      "F1 score for test set: 0.731343283582\n",
      "------------------------------------------\n",
      "Training set size: 300\n",
      "Training KNeighborsClassifier...\n",
      "Done!\n",
      "Training time (secs): 0.001\n",
      "Predicting labels using KNeighborsClassifier...\n",
      "Done!\n",
      "Prediction time (secs): 0.005\n",
      "F1 score for training set: 0.847533632287\n",
      "Predicting labels using KNeighborsClassifier...\n",
      "Done!\n",
      "Prediction time (secs): 0.002\n",
      "F1 score for test set: 0.8\n"
     ]
    },
    {
     "data": {
      "image/png": "[encoded data removed]",
      "text/plain": [
       "<matplotlib.figure.Figure at 0x7f846b902d50>"
      ]
     },
     "metadata": {},
     "output_type": "display_data"
    },
    {
     "name": "stdout",
     "output_type": "stream",
     "text": [
      "------------------------------------------\n",
      "Training set size: 100\n",
      "Training DecisionTreeClassifier...\n",
      "Done!\n",
      "Training time (secs): 0.001\n",
      "Predicting labels using DecisionTreeClassifier...\n",
      "Done!\n",
      "Prediction time (secs): 0.000\n",
      "F1 score for training set: 1.0\n",
      "Predicting labels using DecisionTreeClassifier...\n",
      "Done!\n",
      "Prediction time (secs): 0.000\n",
      "F1 score for test set: 0.719298245614\n",
      "------------------------------------------\n",
      "Training set size: 200\n",
      "Training DecisionTreeClassifier...\n",
      "Done!\n",
      "Training time (secs): 0.001\n",
      "Predicting labels using DecisionTreeClassifier...\n",
      "Done!\n",
      "Prediction time (secs): 0.000\n",
      "F1 score for training set: 1.0\n",
      "Predicting labels using DecisionTreeClassifier...\n",
      "Done!\n",
      "Prediction time (secs): 0.000\n",
      "F1 score for test set: 0.692913385827\n",
      "------------------------------------------\n",
      "Training set size: 300\n",
      "Training DecisionTreeClassifier...\n",
      "Done!\n",
      "Training time (secs): 0.002\n",
      "Predicting labels using DecisionTreeClassifier...\n",
      "Done!\n",
      "Prediction time (secs): 0.000\n",
      "F1 score for training set: 1.0\n",
      "Predicting labels using DecisionTreeClassifier...\n",
      "Done!\n",
      "Prediction time (secs): 0.000\n",
      "F1 score for test set: 0.715447154472\n",
      "------------------------------------------\n",
      "Training set size: 100\n",
      "Training GaussianNB...\n",
      "Done!\n",
      "Training time (secs): 0.001\n",
      "Predicting labels using GaussianNB...\n",
      "Done!\n",
      "Prediction time (secs): 0.000\n",
      "F1 score for training set: 0.861538461538\n",
      "Predicting labels using GaussianNB...\n",
      "Done!\n",
      "Prediction time (secs): 0.000\n",
      "F1 score for test set: 0.752\n",
      "------------------------------------------\n",
      "Training set size: 200\n",
      "Training GaussianNB...\n",
      "Done!\n",
      "Training time (secs): 0.001\n",
      "Predicting labels using GaussianNB...\n",
      "Done!\n",
      "Prediction time (secs): 0.000\n",
      "F1 score for training set: 0.80303030303\n",
      "Predicting labels using GaussianNB...\n",
      "Done!\n",
      "Prediction time (secs): 0.000\n",
      "F1 score for test set: 0.728682170543\n",
      "------------------------------------------\n",
      "Training set size: 300\n",
      "Training GaussianNB...\n",
      "Done!\n",
      "Training time (secs): 0.001\n",
      "Predicting labels using GaussianNB...\n",
      "Done!\n",
      "Prediction time (secs): 0.000\n",
      "F1 score for training set: 0.789473684211\n",
      "Predicting labels using GaussianNB...\n",
      "Done!\n",
      "Prediction time (secs): 0.000\n",
      "F1 score for test set: 0.746268656716\n"
     ]
    },
    {
     "data": {
      "image/png": "[encoded data removed]",
      "text/plain": [
       "<matplotlib.figure.Figure at 0x7f8469e73a10>"
      ]
     },
     "metadata": {},
     "output_type": "display_data"
    },
    {
     "name": "stdout",
     "output_type": "stream",
     "text": [
      "[0.79876939829453486, 0.77537768397316076, 0.71338021556779685, 0.75264731471934965]\n"
     ]
    },
    {
     "data": {
      "image/png": "[encoded data removed]",
      "text/plain": [
       "<matplotlib.figure.Figure at 0x7f8469d38a90>"
      ]
     },
     "metadata": {},
     "output_type": "display_data"
    }
   ],
   "source": [
    "# TODO: Train and predict using two other models\n",
    "from sklearn.neighbors import KNeighborsClassifier\n",
    "from sklearn.tree import DecisionTreeClassifier\n",
    "from sklearn.naive_bayes import GaussianNB\n",
    "\n",
    "#K-Nearest Neighbors\n",
    "train_predict(KNeighborsClassifier(),X_train[:100],y_train[:100],X_test,y_test)\n",
    "train_predict(KNeighborsClassifier(),X_train[:200],y_train[:200],X_test,y_test)\n",
    "train_predict(KNeighborsClassifier(),X_train,y_train,X_test,y_test)\n",
    "\n",
    "#K-Nearest Neighbor Visualization\n",
    "#from sklearn.feature_selection import SelectKBest\n",
    "#selector = SelectKBest(k=2) \n",
    "#X_train_partial = selector.fit_transform(X_train, y_train)\n",
    "#\n",
    "#clf = KNeighborsClassifier()\n",
    "#clf.fit(X_train_partial,y_train)\n",
    "#for x,y in zip(X_train_partial,y_train):\n",
    "#    if y == 'no':\n",
    "#        c1 = plt.scatter(x[0],x[1],c='r',s=50,marker='+')\n",
    "#    elif y == 'yes':\n",
    "#        c2 = plt.scatter(x[0],x[1],c='g',s=50,marker='*')\n",
    "#\n",
    "#x_min, x_max = X_train_partial[:, 0].min() - 1,   X_train_partial[:,0].max() + 1\n",
    "#y_min, y_max = X_train_partial[:, 1].min() - 1,   X_train_partial[:, 1].max() + 1\n",
    "#xx, yy = np.meshgrid(np.arange(x_min, x_max, .01),   np.arange(y_min, y_max, .01))\n",
    "#Z = clf.predict(np.c_[xx.ravel(),  yy.ravel()])\n",
    "#Z = Z.reshape(xx.shape)\n",
    "#Z[Z==\"yes\"] = 1.0\n",
    "#Z[Z==\"no\"] = 0.0\n",
    "#plt.contourf(xx, yy, Z, alpha=0.5)\n",
    "#\n",
    "#plt.legend([c1,c2],[\"Fail\",\"Pass\"])\n",
    "#idx = [i for i, x in enumerate(selector.get_support()) if x == True]\n",
    "#feature_names = [list(X_all.columns)[i] for i in idx]\n",
    "#plt.xlabel(feature_names[0])\n",
    "#plt.ylabel(feature_names[1])\n",
    "#plt.gcf().savefig('KNN.png')\n",
    "#plt.show()\n",
    "\n",
    "\n",
    "#Decision Tree\n",
    "train_predict(DecisionTreeClassifier(),X_train[:100],y_train[:100],X_test,y_test)\n",
    "train_predict(DecisionTreeClassifier(),X_train[:200],y_train[:200],X_test,y_test)\n",
    "train_predict(DecisionTreeClassifier(),X_train,y_train,X_test,y_test)\n",
    "\n",
    "#Decision Tree Visualization\n",
    "#from sklearn.tree import export_graphviz\n",
    "#clf = DecisionTreeClassifier()\n",
    "#train_predict_silent(clf,X_train,y_train,X_test,y_test)\n",
    "#with open('tree.dot', 'w') as dotfile:\n",
    "#    export_graphviz(\n",
    "#        clf,\n",
    "#        dotfile,\n",
    "#        feature_names=list(X_all.columns))\n",
    "\n",
    "#Gaussian Naive Bayes\n",
    "\n",
    "train_predict(GaussianNB(),X_train[:100],y_train[:100],X_test,y_test)\n",
    "train_predict(GaussianNB(),X_train[:200],y_train[:200],X_test,y_test)\n",
    "train_predict(GaussianNB(),X_train,y_train,X_test,y_test)\n",
    "\n",
    "#Gaussian Naive Bayes Visualization\n",
    "\n",
    "#def Gaussian(x,m,s):#mu = mean, sigma = stddev\n",
    "#    return 1.0/(s*np.sqrt(2*np.pi))*np.exp(-0.5*((x-m)/s)**2)\n",
    "\n",
    "#from sklearn.feature_selection import SelectKBest\n",
    "#selector = SelectKBest(k=5) \n",
    "#selector.fit_transform(X_train, y_train)\n",
    "#idx = [i for i, x in enumerate(selector.get_support()) if x == True]\n",
    "\n",
    "#clf = GaussianNB()\n",
    "\n",
    "\n",
    "#train_predict_silent(clf,X_train,y_train,X_test,y_test)\n",
    "\n",
    "#print (clf.class_prior_) #to figure out which class is which.\n",
    "#theta = np.asarray([clf.theta_[:,i] for i in idx]) #mean\n",
    "#sigma = np.asarray([clf.sigma_[:,i] for i in idx]) #sigma\n",
    "#feature_names = [list(X_all.columns)[i] for i in idx]\n",
    "\n",
    "#fig = plt.gcf()\n",
    "\n",
    "#for m,s in zip(theta[:,0],sigma[:,0]):\n",
    "#    x = np.linspace(-1,1)\n",
    "#    y = Gaussian(x,m,s)\n",
    "#    plt.plot(x,y)\n",
    "#plt.title(\"Gaussian Distribution of features for failed students\")\n",
    "#plt.legend(feature_names,loc=2)#upper left\n",
    "#fig.savefig('GNB_F.eps')\n",
    "#plt.show()\n",
    "\n",
    "#fig = plt.gcf()\n",
    "\n",
    "#for m,s in zip(theta[:,1],sigma[:,1]):\n",
    "#    x = np.linspace(-1,1)\n",
    "#    y = Gaussian(x,m,s)\n",
    "#    plt.plot(x,y)\n",
    "#plt.title(\"Gaussian Distribution of features for passed students\")\n",
    "#plt.legend(feature_names,loc=2)\n",
    "#fig.savefig('GNB_P.eps')\n",
    "#plt.show()\n",
    "\n",
    "\n",
    "\n",
    "#100 Iterations of the 4 models\n",
    "\n",
    "def split_data(X_all,y_all):\n",
    "    new_index = np.random.permutation(X_all.index)\n",
    "    X_random = X_all.reindex(new_index)\n",
    "    y_random = y_all.reindex(new_index)\n",
    "    X_train = X_random[:num_train]\n",
    "    y_train = y_random[:num_train]\n",
    "    X_test = X_random[num_train:]\n",
    "    y_test = y_random[num_train:]\n",
    "    return X_train,y_train,X_test,y_test\n",
    "\n",
    "res_svm = []\n",
    "res_knn = []\n",
    "res_dtc = []\n",
    "res_gnb = []\n",
    "for i in range(100):\n",
    "    X_train,y_train,X_test,y_test = split_data(X_all,y_all)\n",
    "    res_svm += [train_predict_silent(svm.SVC(),X_train,y_train,X_test,y_test)]\n",
    "    res_knn += [train_predict_silent(KNeighborsClassifier(),X_train,y_train,X_test,y_test)]\n",
    "    res_dtc += [train_predict_silent(DecisionTreeClassifier(),X_train,y_train,X_test,y_test)]\n",
    "    res_gnb += [train_predict_silent(GaussianNB(),X_train,y_train,X_test,y_test)]\n",
    "\n",
    "plt.plot(res_svm)\n",
    "plt.plot(res_knn)\n",
    "plt.plot(res_dtc)\n",
    "plt.plot(res_gnb)\n",
    "\n",
    "plt.legend([\"SVM\",\"KNN\",\"DTC\",\"GNB\"],loc=3)\n",
    "plt.title(\"F1 Scores for 4 models over 100 iterations\")\n",
    "#plt.gcf().savefig('scores.eps')\n",
    "plt.show()\n",
    "\n",
    "y = [np.mean(res_svm),np.mean(res_knn),np.mean(res_dtc),np.mean(res_gnb)]\n",
    "print(y)\n",
    "plt.stem([0,1,2,3],y)\n",
    "\n",
    "ax = plt.gca()\n",
    "ax.set_xlim([-0.5,3.5])\n",
    "ax.set_ylim([0.6,.9])\n",
    "\n",
    "#plt.axhline(np.mean(res_svm),0,1,c='b')\n",
    "#plt.axhline(np.mean(res_knn),0,1,c='g')\n",
    "#plt.axhline(np.mean(res_dtc),0,1,c='r')\n",
    "#plt.axhline(np.mean(res_gnb),0,1,c='k')\n",
    "plt.xticks([0,1,2,3],(\"SVM\",\"KNN\",\"DTC\",\"GNB\"))\n",
    "plt.title(\"Means of F1 Scores for 4 models over 100 iterations\")\n",
    "\n",
    "#plt.gcf().savefig('score_means.eps')\n",
    "plt.show()"
   ]
  },
  {
   "cell_type": "markdown",
   "metadata": {},
   "source": [
    "## 5. Choosing the Best Model\n",
    "\n",
    "- Based on the experiments you performed earlier, in 1-2 paragraphs explain to the board of supervisors what single model you chose as the best model. Which model is generally the most appropriate based on the available data, limited resources, cost, and performance?\n",
    "- In 1-2 paragraphs explain to the board of supervisors in layman's terms how the final model chosen is supposed to work (for example if you chose a Decision Tree or Support Vector Machine, how does it make a prediction).\n",
    "- Fine-tune the model. Use Gridsearch with at least one important parameter tuned and with at least 3 settings. Use the entire training set for this.\n",
    "- What is the model's final F<sub>1</sub> score?"
   ]
  },
  {
   "cell_type": "code",
   "execution_count": 15,
   "metadata": {
    "collapsed": false
   },
   "outputs": [
    {
     "name": "stdout",
     "output_type": "stream",
     "text": [
      "SVC(C=0.1, cache_size=200, class_weight=None, coef0=0.0,\n",
      "  decision_function_shape=None, degree=3, gamma=0.01, kernel='poly',\n",
      "  max_iter=-1, probability=False, random_state=None, shrinking=True,\n",
      "  tol=0.001, verbose=False)\n",
      "0.853503184713\n"
     ]
    }
   ],
   "source": [
    "# TODO: Fine-tune your model and report the best F1 score\n",
    "\n",
    "from sklearn.grid_search import GridSearchCV\n",
    "parameters = {'kernel':('linear', 'poly', 'rbf'), 'C':[0.1, 1.0, 3.0, 10], 'gamma':[1,0.1,0.05,0.01,0.001]}\n",
    "svr = svm.SVC()\n",
    "clf = GridSearchCV(svr, parameters)\n",
    "clf.fit(X_train,y_train)\n",
    "print(clf.best_estimator_)\n",
    "y_pred = clf.predict(X_test)\n",
    "print(f1_score(y_test.values,y_pred, pos_label='yes'))\n",
    "\n"
   ]
  }
 ],
 "metadata": {
  "kernelspec": {
   "display_name": "Python 2",
   "language": "python",
   "name": "python2"
  },
  "language_info": {
   "codemirror_mode": {
    "name": "ipython",
    "version": 2
   },
   "file_extension": ".py",
   "mimetype": "text/x-python",
   "name": "python",
   "nbconvert_exporter": "python",
   "pygments_lexer": "ipython2",
   "version": "2.7.10"
  }
 },
 "nbformat": 4,
 "nbformat_minor": 0
}
